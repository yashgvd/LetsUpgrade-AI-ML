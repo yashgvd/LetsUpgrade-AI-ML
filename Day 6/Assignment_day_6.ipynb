{
 "cells": [
  {
   "cell_type": "markdown",
   "metadata": {},
   "source": [
    "# Question 1"
   ]
  },
  {
   "cell_type": "code",
   "execution_count": 1,
   "metadata": {},
   "outputs": [
    {
     "name": "stdout",
     "output_type": "stream",
     "text": [
      "Please select an option: \n",
      " Enter '1' for : Find the company name from an user specified email-id. \n",
      "Enter 'q' for : To quit the program. 1\n",
      "Enter the email Id to find ygovada@LetsUpgrade.com\n",
      "The company the person works for is : LetsUpgrade\n",
      "Please select an option: \n",
      " Enter '1' for : Find the company name from an user specified email-id. \n",
      "Enter 'q' for : To quit the program. 1\n",
      "Enter the email Id to find ygovada@google.com\n",
      "The company the person works for is : google\n",
      "Please select an option: \n",
      " Enter '1' for : Find the company name from an user specified email-id. \n",
      "Enter 'q' for : To quit the program. q\n"
     ]
    }
   ],
   "source": [
    "while 1>0:\n",
    "    i = input(\"Please select an option: \\n Enter '1' for : Find the company name from an user specified email-id. \\nEnter 'q' for : To quit the program. \")\n",
    "    if i == '1':    \n",
    "        s = input(\"Enter the email Id to find \")\n",
    "        l=s.split('@')\n",
    "        k=l[1].split('.')\n",
    "        print(\"The company the person works for is :\", k[0])\n",
    "    elif i == 'q' or 'Q':\n",
    "        break\n",
    "    else:\n",
    "        print(\"Invalid Input\")"
   ]
  },
  {
   "cell_type": "markdown",
   "metadata": {},
   "source": [
    "# Question 2"
   ]
  },
  {
   "cell_type": "code",
   "execution_count": 2,
   "metadata": {},
   "outputs": [
    {
     "name": "stdout",
     "output_type": "stream",
     "text": [
      "Please Enter words separated by the comma to sort them \n",
      "without,hello,bag,world\n",
      "bag,hello,without,world\n"
     ]
    }
   ],
   "source": [
    "s = input(\"Please Enter words separated by the comma to sort them \\n\")\n",
    "l = s.split(',')\n",
    "s1=''\n",
    "l.sort()\n",
    "for i in l:\n",
    "    s1 = s1 + i + ','\n",
    "print(s1[0:-1])"
   ]
  },
  {
   "cell_type": "markdown",
   "metadata": {},
   "source": [
    "# Question 3"
   ]
  },
  {
   "cell_type": "code",
   "execution_count": 3,
   "metadata": {},
   "outputs": [
    {
     "name": "stdout",
     "output_type": "stream",
     "text": [
      "{1, 2, 3, 'orange', 'banana', 'apple'}\n",
      "{1, 2, 3, 4, 'orange', 'banana', 'apple'}\n",
      "{1, 2, 3, 4, 5, 6, 'orange', 'cherry', 'banana', 'apple'}\n",
      "10\n",
      "{1, 2, 3, 4, 5, 6, 'orange', 'cherry', 'banana'}\n",
      "{1, 2, 3, 5, 6, 'orange', 'cherry', 'banana'}\n",
      "1\n",
      "{2, 3, 5, 6, 'orange', 'cherry', 'banana'}\n",
      "{2, 3, 5, 6, 'a', 'b', 'orange', 'cherry', 'banana'}\n",
      "{2, 3, 5, 6, 'a', 'b', 'orange', 'cherry', 'banana'}\n",
      "{'b', 'a'}\n",
      "False\n",
      "{2, 3, 5, 6, 'orange', 'cherry', 'banana'}\n"
     ]
    }
   ],
   "source": [
    "ms = {1, 2, 3, \"apple\", \"banana\", \"orange\"}\n",
    "print(ms)\n",
    "\n",
    "ms.add(4)\n",
    "print(ms)\n",
    "\n",
    "ms.update([\"cherry\", 5, 6])\n",
    "print(ms)\n",
    "\n",
    "print(len(ms))\n",
    "\n",
    "ms.remove(\"apple\")\n",
    "print(ms)\n",
    "\n",
    "ms.discard(4)\n",
    "print(ms)\n",
    "\n",
    "x = ms.pop()\n",
    "print(x)\n",
    "print(ms)\n",
    "\n",
    "ms_d = {'a','b'}\n",
    "ms = ms.union(ms_d)\n",
    "print(ms)\n",
    "\n",
    "cpy = ms.copy()\n",
    "print(cpy)\n",
    "\n",
    "print(ms.intersection(ms_d))\n",
    "\n",
    "print(ms.isdisjoint(ms_d))\n",
    "\n",
    "print(ms.symmetric_difference(ms_d))"
   ]
  },
  {
   "cell_type": "markdown",
   "metadata": {},
   "source": [
    "# Question 4"
   ]
  },
  {
   "cell_type": "code",
   "execution_count": 4,
   "metadata": {},
   "outputs": [
    {
     "name": "stdout",
     "output_type": "stream",
     "text": [
      "1 2 4 6 3 7 8\n",
      "The missing number in the given list is:  5\n"
     ]
    }
   ],
   "source": [
    "s = input()\n",
    "l = s.split(' ')\n",
    "l.sort()\n",
    "\n",
    "for i in range(len(l)):\n",
    "    if i+1 == int(l[i]):\n",
    "        continue\n",
    "    else:\n",
    "        print(\"The missing number in the given list is: \",i+1)\n",
    "        break"
   ]
  },
  {
   "cell_type": "markdown",
   "metadata": {},
   "source": [
    "# Question 5\n"
   ]
  },
  {
   "cell_type": "code",
   "execution_count": 5,
   "metadata": {},
   "outputs": [
    {
     "name": "stdout",
     "output_type": "stream",
     "text": [
      "12 24 35 24 88 120 155 88 120 155 155 88 120 35\n",
      "12 24 35 88 120 155 "
     ]
    }
   ],
   "source": [
    "s = input()\n",
    "k = s.split(' ')\n",
    "l=[]\n",
    "for i in range(len(k)):\n",
    "   l.append(int(k[i])) \n",
    "l.sort()\n",
    "m=[]\n",
    "for i in range(len(l)-1):\n",
    "    if l[i] != l[i+1]:\n",
    "        m.append(l[i])    \n",
    "m.append(l[-1])\n",
    "for i in m:\n",
    "    print(i,end=' ')"
   ]
  },
  {
   "cell_type": "code",
   "execution_count": null,
   "metadata": {},
   "outputs": [],
   "source": []
  }
 ],
 "metadata": {
  "kernelspec": {
   "display_name": "Python 3",
   "language": "python",
   "name": "python3"
  },
  "language_info": {
   "codemirror_mode": {
    "name": "ipython",
    "version": 3
   },
   "file_extension": ".py",
   "mimetype": "text/x-python",
   "name": "python",
   "nbconvert_exporter": "python",
   "pygments_lexer": "ipython3",
   "version": "3.7.6"
  }
 },
 "nbformat": 4,
 "nbformat_minor": 4
}
