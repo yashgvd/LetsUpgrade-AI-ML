{
 "cells": [
  {
   "cell_type": "markdown",
   "metadata": {},
   "source": [
    "# Question 1 \n",
    "\n",
    "Program to find first 20 non even prime natuaral numbers"
   ]
  },
  {
   "cell_type": "code",
   "execution_count": 1,
   "metadata": {},
   "outputs": [
    {
     "name": "stdout",
     "output_type": "stream",
     "text": [
      "3\n",
      "5\n",
      "7\n",
      "11\n",
      "13\n",
      "17\n",
      "19\n",
      "23\n",
      "29\n",
      "31\n",
      "37\n",
      "41\n",
      "43\n",
      "47\n",
      "53\n",
      "59\n",
      "61\n",
      "67\n",
      "71\n",
      "73\n"
     ]
    }
   ],
   "source": [
    "import sys\n",
    "cnt = 0\n",
    "count = 0\n",
    "\n",
    "for i in range(3,sys.maxsize):\n",
    "    for j in range(1,i+1):\n",
    "        if (i%j==0):\n",
    "            count = count + 1\n",
    "    if (count == 2):\n",
    "        print (i)\n",
    "        cnt = cnt + 1 \n",
    "    count = 0\n",
    "    if (cnt == 20):\n",
    "        break"
   ]
  },
  {
   "cell_type": "markdown",
   "metadata": {},
   "source": [
    "Generalized code to find out the number of first N non-even prime numbers"
   ]
  },
  {
   "cell_type": "code",
   "execution_count": 2,
   "metadata": {},
   "outputs": [
    {
     "name": "stdout",
     "output_type": "stream",
     "text": [
      "Print how many non even-prime numbers you want! \n",
      "30\n",
      "3\n",
      "5\n",
      "7\n",
      "11\n",
      "13\n",
      "17\n",
      "19\n",
      "23\n",
      "29\n",
      "31\n",
      "37\n",
      "41\n",
      "43\n",
      "47\n",
      "53\n",
      "59\n",
      "61\n",
      "67\n",
      "71\n",
      "73\n",
      "79\n",
      "83\n",
      "89\n",
      "97\n",
      "101\n",
      "103\n",
      "107\n",
      "109\n",
      "113\n",
      "127\n"
     ]
    }
   ],
   "source": [
    "print(\"Print how many non even-prime numbers you want! \") \n",
    "n = int(input())\n",
    "\n",
    "cnt = 0\n",
    "count = 0\n",
    "\n",
    "for i in range(3,sys.maxsize):\n",
    "    for j in range(1,i+1):\n",
    "        if (i%j==0):\n",
    "            count = count + 1\n",
    "    if (count == 2):\n",
    "        print (i)\n",
    "        cnt = cnt + 1 \n",
    "    count = 0\n",
    "    if (cnt == n):\n",
    "        break"
   ]
  },
  {
   "cell_type": "markdown",
   "metadata": {},
   "source": [
    "# Question 2 "
   ]
  },
  {
   "cell_type": "code",
   "execution_count": 3,
   "metadata": {},
   "outputs": [
    {
     "name": "stdout",
     "output_type": "stream",
     "text": [
      "My name is yashaswy\n",
      "my name is yashaswy\n",
      "                    mY nAMe iS yaShAsWy                     \n",
      "1\n",
      "my name is yashaswy\n",
      "MY NAME IS YASHASWY\n",
      "My NamE Is YAsHaSwY\n",
      "False\n",
      "False\n",
      "15\n",
      "True\n",
      "False\n",
      "mY,nAMe,iS,yaShAsWy\n",
      "['mY', 'nAMe', 'iS', 'yaShAsWy']\n",
      "My Name Is Yashaswy\n"
     ]
    }
   ],
   "source": [
    "s = \"mY nAMe iS yaShAsWy\"\n",
    "s1 = s.capitalize()\n",
    "print(s1) #1st function - capitalizes first character\n",
    "\n",
    "s2 = s.casefold()\n",
    "print(s2) # 2nd function - converts string to lower case \n",
    "\n",
    "s3 = s.center(60)\n",
    "print(s3) # 3rd function Returns a centered string by spacing\n",
    "\n",
    "s4 = s.count('aS')\n",
    "print(s4) # 4th function - returns number of times the input value occurs\n",
    "\n",
    "s5 = s.lower()\n",
    "print(s5) # 5th function - converts the whole string to lower case\n",
    "\n",
    "s6 = s.upper()\n",
    "print(s6) # 6th function - converts whole string to upper case \n",
    "\n",
    "s7 = s.swapcase()\n",
    "print(s7) # 7th function - swaps the case of each character of the string\n",
    "\n",
    "print(s.islower()) # 8th function - prints true if all characters are lower case\n",
    "\n",
    "print (s.isupper()) # 9th function - prints true if all characters are upper case\n",
    "\n",
    "print(s.find(\"As\")) # 10th function - finds the address of the first instance of the input string or character\n",
    "\n",
    "print(s.endswith(\"Wy\")) # 11th function - returns true if the string ends with the user mentions input\n",
    "\n",
    "print(s.isalnum()) # 12th function - returns true if all characters are alphanumeric\n",
    "\n",
    "print(s.replace(\" \", \",\")) # 13h function - replaces the given character with the desired one\n",
    "\n",
    "print(s.split(\" \")) #14th function - splits the string ar the input seperator and creates a list\n",
    "\n",
    "print(s.title()) # 15th function - converts first letter of each word to upper case and rest to lower case"
   ]
  },
  {
   "cell_type": "markdown",
   "metadata": {},
   "source": [
    "# Question 3 "
   ]
  },
  {
   "cell_type": "code",
   "execution_count": 4,
   "metadata": {},
   "outputs": [
    {
     "name": "stdout",
     "output_type": "stream",
     "text": [
      "Please enter a string 's1' to test if it is a Palindrome or Anagram or neither: \n",
      "asdpdsa\n",
      "s1 =  asdpdsa\n",
      "Please enter another string 's2' to test if it is a Palindrome or Anagram or neither: \n",
      "adspads\n",
      "s2 =  adspads\n",
      "The given string s1 is a Palindrome\n",
      "The given string s2 is NOT a Palindrome\n",
      "The given 2 strings are anagrams\n"
     ]
    }
   ],
   "source": [
    "print(\"Please enter a string 's1' to test if it is a Palindrome or Anagram or neither: \")\n",
    "s1 = str(input())\n",
    "print(\"s1 = \",s1)\n",
    "print(\"Please enter another string 's2' to test if it is a Palindrome or Anagram or neither: \")\n",
    "s2 = str(input())\n",
    "print(\"s2 = \",s2)\n",
    "l1 = []\n",
    "l2 = []\n",
    "for i in range(len(s1)):\n",
    "    if s1[i] == s1[-i-1]:\n",
    "        l1.append('yes')\n",
    "for i in range(len(s2)):\n",
    "    if s2[i] == s2[-i-1]:\n",
    "        l2.append('yes')\n",
    "\n",
    "if (l1 == ['yes'] * len(s1)):\n",
    "    print(\"The given string s1 is a Palindrome\")\n",
    "else :\n",
    "    print(\"The given string s1 is NOT a Palindrome\")\n",
    "if (l2 == ['yes'] * len(s2)):\n",
    "    print(\"The given string s2 is a Palindrome\")\n",
    "else :\n",
    "    print(\"The given string s2 is NOT a Palindrome\")\n",
    "\n",
    "if sorted(s1) == sorted(s2):\n",
    "    print(\"The given 2 strings are anagrams\")\n",
    "if (l1 != ['yes'] * len(s1) and l2 != ['yes'] * len(s2) and sorted(s1) != sorted(s2)):\n",
    "    print(\"The given srings are neither Palindrome nor Anagrams\")"
   ]
  },
  {
   "cell_type": "markdown",
   "metadata": {},
   "source": [
    "# Question 3 - For a better user interface"
   ]
  },
  {
   "cell_type": "code",
   "execution_count": 18,
   "metadata": {},
   "outputs": [
    {
     "name": "stdout",
     "output_type": "stream",
     "text": [
      "Choose from the following options: \n",
      " Input '1' if you want to check if a string is palindrome \n",
      " Input '2' if you want to check if the given 2 strings are Anagrams \n",
      " 'q' to quit/exit\n",
      "1\n",
      "Please enter a string to test if it is a Palindrome\n",
      "lol\n",
      "The given string is a Palindrome\n",
      "Choose from the following options: \n",
      " Input '1' if you want to check if a string is palindrome \n",
      " Input '2' if you want to check if the given 2 strings are Anagrams \n",
      " 'q' to quit/exit\n",
      "2\n",
      "Please enter a string 's1' to test if it is a Palindrome or Anagram or neither: \n",
      "asdpdsa\n",
      "Please enter another string 's2' to test if it is a Palindrome or Anagram or neither: \n",
      "adspads\n",
      "The given 2 strings are anagrams\n",
      "Choose from the following options: \n",
      " Input '1' if you want to check if a string is palindrome \n",
      " Input '2' if you want to check if the given 2 strings are Anagrams \n",
      " 'q' to quit/exit\n",
      "h\n",
      "Invalid Input\n",
      "Choose from the following options: \n",
      " Input '1' if you want to check if a string is palindrome \n",
      " Input '2' if you want to check if the given 2 strings are Anagrams \n",
      " 'q' to quit/exit\n",
      "5\n",
      "Invalid Input\n",
      "Choose from the following options: \n",
      " Input '1' if you want to check if a string is palindrome \n",
      " Input '2' if you want to check if the given 2 strings are Anagrams \n",
      " 'q' to quit/exit\n",
      "q\n"
     ]
    }
   ],
   "source": [
    "while 1>0:\n",
    "    print(\"Choose from the following options: \\n Input '1' if you want to check if a string is palindrome \\n Input '2' if you want to check if the given 2 strings are Anagrams \\n 'q' to quit/exit\")\n",
    "    s =str(input())\n",
    "    \n",
    "    if s=='1':\n",
    "        print(\"Please enter a string to test if it is a Palindrome\")\n",
    "        s1 = str(input())\n",
    "        l = []\n",
    "        for i in range(len(s1)):\n",
    "            if s1[i] == s1[-i-1]:\n",
    "                l.append('yes')\n",
    "\n",
    "        if (l == ['yes'] * len(s1)):\n",
    "            print(\"The given string is a Palindrome\")\n",
    "        else:\n",
    "            print(\"The given string is NOT a Palindrome\")\n",
    "        \n",
    "    elif s=='2':\n",
    "        print(\"Please enter a string 's1' to test if it is a Palindrome or Anagram or neither: \")\n",
    "        s1 = str(input())\n",
    "        print(\"Please enter another string 's2' to test if it is a Palindrome or Anagram or neither: \")\n",
    "        s2 = str(input())\n",
    "        if sorted(s1) == sorted(s2):\n",
    "            print(\"The given 2 strings are anagrams\")\n",
    "        else: \n",
    "            print(\"The given 2 strings are NOT anagrams\")\n",
    "    \n",
    "    elif s == 'q' or s == 'Q':\n",
    "        break\n",
    "    \n",
    "    else:\n",
    "        print(\"Invalid Input\")\n"
   ]
  },
  {
   "cell_type": "markdown",
   "metadata": {},
   "source": [
    "# Question 4\n"
   ]
  },
  {
   "cell_type": "code",
   "execution_count": 5,
   "metadata": {},
   "outputs": [],
   "source": [
    "def removechar(s):\n",
    "    rc_s = \"\"\n",
    "    for i in s: \n",
    "        if i.isalpha():\n",
    "            rc_s = rc_s + i\n",
    "    return(rc_s.lower())"
   ]
  },
  {
   "cell_type": "code",
   "execution_count": 6,
   "metadata": {},
   "outputs": [
    {
     "name": "stdout",
     "output_type": "stream",
     "text": [
      "Dr. Darshan Ingle @AI-ML Trainer\n"
     ]
    },
    {
     "data": {
      "text/plain": [
       "'drdarshaningleaimltrainer'"
      ]
     },
     "execution_count": 6,
     "metadata": {},
     "output_type": "execute_result"
    }
   ],
   "source": [
    "s = str(input())\n",
    "removechar(s)"
   ]
  },
  {
   "cell_type": "code",
   "execution_count": null,
   "metadata": {},
   "outputs": [],
   "source": []
  }
 ],
 "metadata": {
  "kernelspec": {
   "display_name": "Python 3",
   "language": "python",
   "name": "python3"
  },
  "language_info": {
   "codemirror_mode": {
    "name": "ipython",
    "version": 3
   },
   "file_extension": ".py",
   "mimetype": "text/x-python",
   "name": "python",
   "nbconvert_exporter": "python",
   "pygments_lexer": "ipython3",
   "version": "3.7.6"
  }
 },
 "nbformat": 4,
 "nbformat_minor": 4
}
