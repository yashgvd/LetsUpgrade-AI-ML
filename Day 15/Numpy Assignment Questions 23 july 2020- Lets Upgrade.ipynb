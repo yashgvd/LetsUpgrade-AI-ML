{
 "cells": [
  {
   "cell_type": "markdown",
   "metadata": {},
   "source": [
    "# 1. Create a 3x3x3 array with random values "
   ]
  },
  {
   "cell_type": "code",
   "execution_count": 51,
   "metadata": {},
   "outputs": [
    {
     "name": "stdout",
     "output_type": "stream",
     "text": [
      "[[[1 2 3]\n",
      "  [4 5 6]\n",
      "  [7 8 9]]\n",
      "\n",
      " [[2 5 2]\n",
      "  [4 6 8]\n",
      "  [1 5 8]]\n",
      "\n",
      " [[2 2 7]\n",
      "  [2 3 5]\n",
      "  [3 6 8]]]\n",
      "<class 'numpy.ndarray'>\n",
      "(3, 3, 3)\n"
     ]
    },
    {
     "data": {
      "text/plain": [
       "array([[[1, 2, 3],\n",
       "        [4, 5, 6],\n",
       "        [7, 8, 9]],\n",
       "\n",
       "       [[2, 5, 2],\n",
       "        [4, 6, 8],\n",
       "        [1, 5, 8]],\n",
       "\n",
       "       [[2, 2, 7],\n",
       "        [2, 3, 5],\n",
       "        [3, 6, 8]]])"
      ]
     },
     "execution_count": 51,
     "metadata": {},
     "output_type": "execute_result"
    }
   ],
   "source": [
    "import numpy as np\n",
    "a = np.array([[[1,2,3],[4,5,6],[7,8,9]],[[2,5,2],[4,6,8],[1,5,8]],[[2,2,7],[2,3,5],[3,6,8]]])\n",
    "print(a)\n",
    "print(type(a))\n",
    "print(a.shape)\n",
    "a"
   ]
  },
  {
   "cell_type": "code",
   "execution_count": 52,
   "metadata": {},
   "outputs": [
    {
     "data": {
      "text/plain": [
       "array([[[0.37722327, 0.09952286, 0.55273388],\n",
       "        [0.70680088, 0.64205522, 0.99491466],\n",
       "        [0.81574095, 0.27141234, 0.50231849]],\n",
       "\n",
       "       [[0.93876328, 0.19089082, 0.2231069 ],\n",
       "        [0.19013512, 0.48803676, 0.21131498],\n",
       "        [0.83560134, 0.4670088 , 0.85984063]],\n",
       "\n",
       "       [[0.04790248, 0.45958393, 0.29404926],\n",
       "        [0.80639372, 0.83731701, 0.34581801],\n",
       "        [0.27021245, 0.62985336, 0.16369518]]])"
      ]
     },
     "execution_count": 52,
     "metadata": {},
     "output_type": "execute_result"
    }
   ],
   "source": [
    "# Method 2 \n",
    "np.random.random((3,3,3))"
   ]
  },
  {
   "cell_type": "markdown",
   "metadata": {},
   "source": [
    "# 2.Create a 5x5 matrix with values 1,2,3,4 just below the diagonal"
   ]
  },
  {
   "cell_type": "code",
   "execution_count": 53,
   "metadata": {},
   "outputs": [
    {
     "name": "stdout",
     "output_type": "stream",
     "text": [
      "[[0. 0. 0. 0. 0.]\n",
      " [1. 0. 0. 0. 0.]\n",
      " [0. 2. 0. 0. 0.]\n",
      " [0. 0. 3. 0. 0.]\n",
      " [0. 0. 0. 4. 0.]]\n"
     ]
    }
   ],
   "source": [
    "b = np.zeros((5,5))\n",
    "b[1][0] += 1\n",
    "b[2][1] += 2\n",
    "b[3][2] += 3\n",
    "b[4][3] += 4\n",
    "print(b)"
   ]
  },
  {
   "cell_type": "markdown",
   "metadata": {},
   "source": [
    "# 3.Create a 8x8 matrix and fill it with a checkerboard pattern"
   ]
  },
  {
   "cell_type": "code",
   "execution_count": 54,
   "metadata": {},
   "outputs": [
    {
     "name": "stdout",
     "output_type": "stream",
     "text": [
      "[[1. 0. 1. 0. 1. 0. 1. 0.]\n",
      " [0. 1. 0. 1. 0. 1. 0. 1.]\n",
      " [1. 0. 1. 0. 1. 0. 1. 0.]\n",
      " [0. 1. 0. 1. 0. 1. 0. 1.]\n",
      " [1. 0. 1. 0. 1. 0. 1. 0.]\n",
      " [0. 1. 0. 1. 0. 1. 0. 1.]\n",
      " [1. 0. 1. 0. 1. 0. 1. 0.]\n",
      " [0. 1. 0. 1. 0. 1. 0. 1.]]\n"
     ]
    }
   ],
   "source": [
    "c = np.zeros((8,8))\n",
    "for i in range(8):\n",
    "    for j in range(8):\n",
    "        if (i+j)%2 == 0 :\n",
    "            c[i][j] = 1\n",
    "print(c)\n",
    "        "
   ]
  },
  {
   "cell_type": "markdown",
   "metadata": {},
   "source": [
    "# 4. Normalize a 5x5 random matrix"
   ]
  },
  {
   "cell_type": "code",
   "execution_count": 55,
   "metadata": {},
   "outputs": [
    {
     "name": "stdout",
     "output_type": "stream",
     "text": [
      "[[0.46239254 0.64827767 0.52049601]\n",
      " [0.08805238 0.00719702 0.88735964]\n",
      " [0.14511307 0.65865492 0.41857261]]\n",
      "\n",
      "\n",
      " [[0.51717206 0.72836613 0.58318653]\n",
      " [0.09186411 0.         1.        ]\n",
      " [0.15669383 0.74015629 0.46738589]]\n"
     ]
    }
   ],
   "source": [
    "d= np.random.random((3,3))\n",
    "\n",
    "print(d)\n",
    "dmax = d.max()\n",
    "dmin = d.min()\n",
    "d = (d - dmin)/(dmax - dmin)\n",
    "\n",
    "print(\"\\n\\n\",d)"
   ]
  },
  {
   "cell_type": "markdown",
   "metadata": {},
   "source": [
    "# 5.  How to find common values between two arrays?"
   ]
  },
  {
   "cell_type": "code",
   "execution_count": 56,
   "metadata": {},
   "outputs": [
    {
     "name": "stdout",
     "output_type": "stream",
     "text": [
      "9\n",
      "The total number of common values between the 2 arrays is:  1\n"
     ]
    }
   ],
   "source": [
    "# Method 1\n",
    "\n",
    "e = np.array([9,10,11])\n",
    "count = 0\n",
    "for i in range(a.shape[0]): \n",
    "    for j in range(a.shape[1]): \n",
    "        for k in range(a.shape[2]): \n",
    "            if a[i][j][k] in e.flatten():\n",
    "                count = count+1 \n",
    "                print(a[i][j][k])\n",
    "    \n",
    "    \n",
    "        \n",
    "print(\"The total number of common values between the 2 arrays is: \", count)"
   ]
  },
  {
   "cell_type": "code",
   "execution_count": 57,
   "metadata": {},
   "outputs": [
    {
     "name": "stdout",
     "output_type": "stream",
     "text": [
      "9\n"
     ]
    }
   ],
   "source": [
    "# Method 2\n",
    "\n",
    "f = np.array([7,8,9])\n",
    "for i in e.flatten():\n",
    "    if i in f.flatten():\n",
    "        print(i)\n"
   ]
  },
  {
   "cell_type": "code",
   "execution_count": 66,
   "metadata": {},
   "outputs": [
    {
     "name": "stdout",
     "output_type": "stream",
     "text": [
      "[9]\n",
      "[1. 2. 3. 4.]\n"
     ]
    }
   ],
   "source": [
    "# Method 3\n",
    "\n",
    "print(np.intersect1d(e,f))\n",
    "print(np.intersect1d(a,b))"
   ]
  },
  {
   "cell_type": "markdown",
   "metadata": {},
   "source": [
    "# 6.How to get the dates of yesterday, today and tomorrow?"
   ]
  },
  {
   "cell_type": "code",
   "execution_count": 70,
   "metadata": {},
   "outputs": [
    {
     "name": "stdout",
     "output_type": "stream",
     "text": [
      "Yestraday's Date:  2020-07-23\n",
      "Today's Date:  2020-07-24\n",
      "Tomorrow's Date:  2020-07-25\n"
     ]
    }
   ],
   "source": [
    "yesterday = np.datetime64('today') - np.timedelta64(1)\n",
    "print(\"Yestraday's Date: \",yesterday)\n",
    "today     = np.datetime64('today')\n",
    "print(\"Today's Date: \",today)\n",
    "tomorrow  = np.datetime64('today') + np.timedelta64(1)\n",
    "print(\"Tomorrow's Date: \",tomorrow)"
   ]
  },
  {
   "cell_type": "markdown",
   "metadata": {},
   "source": [
    "# 7. Consider two random array A and B, check if they are equal"
   ]
  },
  {
   "cell_type": "code",
   "execution_count": 72,
   "metadata": {},
   "outputs": [
    {
     "name": "stdout",
     "output_type": "stream",
     "text": [
      "False\n",
      "[[False False]\n",
      " [False False]]\n"
     ]
    }
   ],
   "source": [
    "A = np.random.random((2,2))\n",
    "B = np.random.random((2,2))\n",
    "print((A==B).all()) # The whole array or matrix comparison\n",
    "print(A==B) # Element-wise comparison"
   ]
  },
  {
   "cell_type": "markdown",
   "metadata": {},
   "source": [
    "# 8.Create random vector of size 10 and replace the maximum value by 0 "
   ]
  },
  {
   "cell_type": "code",
   "execution_count": 83,
   "metadata": {},
   "outputs": [
    {
     "name": "stdout",
     "output_type": "stream",
     "text": [
      "[0.66125321 0.52640083 0.58646049 0.0368903  0.46683739 0.17692483\n",
      " 0.60441036 0.08101305 0.468353   0.06030743]\n",
      "0.6612532100310463\n",
      "[0.         0.52640083 0.58646049 0.0368903  0.46683739 0.17692483\n",
      " 0.60441036 0.08101305 0.468353   0.06030743]\n"
     ]
    }
   ],
   "source": [
    "# Method 1 \n",
    "\n",
    "v = np.random.random(10)\n",
    "print(v)\n",
    "print(v.max())\n",
    "for i in range(len(v)):\n",
    "    if v[i] == v.max():\n",
    "        v[i] = 0\n",
    "        break\n",
    "print(v)"
   ]
  },
  {
   "cell_type": "code",
   "execution_count": 84,
   "metadata": {},
   "outputs": [
    {
     "name": "stdout",
     "output_type": "stream",
     "text": [
      "[0.9103011  0.1312613  0.62452938 0.55924173 0.4886147  0.83115886\n",
      " 0.81949886 0.         0.68593979 0.19338092]\n"
     ]
    }
   ],
   "source": [
    "v1 = np.random.random(10)\n",
    "v1[v1.argmax()] = 0\n",
    "print(v1)"
   ]
  },
  {
   "cell_type": "markdown",
   "metadata": {},
   "source": [
    "# 9. How to print all the values of an array?"
   ]
  },
  {
   "cell_type": "code",
   "execution_count": 85,
   "metadata": {},
   "outputs": [
    {
     "name": "stdout",
     "output_type": "stream",
     "text": [
      "0.08741913890381126\n",
      "0.36747444400393847\n",
      "0.5620573010525024\n",
      "0.26655239874775594\n",
      "0.999427760478386\n",
      "0.3910124770935429\n",
      "0.8434939314419366\n",
      "0.36437014993693306\n",
      "0.7583813495567397\n",
      "0.12368805492737123\n",
      "0.33330625578011697\n",
      "0.3895454623403396\n",
      "0.2447984028786735\n",
      "0.4985200400804851\n",
      "0.5602215796002077\n",
      "0.050496553267409094\n",
      "0.6176862255735918\n",
      "0.13630016718651006\n",
      "0.23822331319809809\n",
      "0.5021895993240405\n",
      "0.6233282373654452\n",
      "0.5473074559337285\n",
      "0.6308002043965242\n",
      "0.5308351384800438\n",
      "0.3826492686253824\n",
      "0.6835606513628057\n",
      "0.3246525370920228\n",
      "0.6244971518868027\n",
      "0.36079407452853207\n",
      "0.2446954487712537\n",
      "0.656513000518949\n",
      "0.28469081370986304\n",
      "0.8839358560520747\n",
      "0.6315083937436318\n",
      "0.7739133948980175\n",
      "0.40781013699191404\n",
      "0.5048899638526732\n",
      "0.8361362679964717\n",
      "0.4258142420753148\n",
      "0.6613206985766186\n",
      "0.26851068127376154\n",
      "0.3121135989262558\n",
      "0.12906339391417954\n",
      "0.2547128554411143\n",
      "0.8328659660232557\n",
      "0.02443668809231836\n",
      "0.6282808631812611\n",
      "0.4200667869189618\n",
      "0.9111589511054357\n",
      "0.6961246447999904\n",
      "0.2879568091750875\n",
      "0.1761045046426658\n",
      "0.14586180605349675\n",
      "0.6580729461617054\n",
      "0.8560424744495732\n",
      "0.9458372277569478\n",
      "0.3234001420931929\n",
      "0.25904236006383274\n",
      "0.611818821167337\n",
      "0.47419937462259265\n",
      "0.2514987995835638\n",
      "0.8202515956864408\n",
      "0.9220859555065378\n",
      "0.9640900161072464\n",
      "0.1146371455012205\n",
      "0.7085479673702911\n",
      "0.6216102268654848\n",
      "0.2853105198755992\n",
      "0.8883812297751378\n",
      "0.005327426042695649\n",
      "0.047119434664682935\n",
      "0.8880788429843761\n",
      "0.3999207270497753\n",
      "0.15731432518656596\n",
      "0.3600254385035412\n",
      "0.03027622384890072\n",
      "0.004264741736715427\n",
      "0.6151855657533022\n",
      "0.7031235356398984\n",
      "0.563396605317023\n",
      "0.19204075165594214\n",
      "0.7169644936743595\n",
      "0.7059298818069978\n",
      "0.4057840062708109\n",
      "0.9949351369428587\n",
      "0.2571811978967393\n",
      "0.9293290729615507\n",
      "0.11914456718013966\n",
      "0.9305439566228583\n",
      "0.2508081116964339\n",
      "0.8315999844278813\n",
      "0.5418804484454249\n",
      "0.7294158160610076\n",
      "0.32492574518529216\n",
      "0.8477235970328432\n",
      "0.9684731116268582\n",
      "0.29118728622380563\n",
      "0.7976468428811041\n",
      "0.6217141383519711\n",
      "0.4302005789548259\n",
      "0.2059736815545482\n",
      "0.1089120803470276\n",
      "0.7784402958426143\n",
      "0.8276837122708428\n",
      "0.5703179267601192\n",
      "0.7976353336416313\n",
      "0.878274530072819\n",
      "0.6742607254896223\n",
      "0.6586569732939781\n",
      "0.48802956316192936\n",
      "0.14401697873234887\n",
      "0.44159866775178924\n",
      "0.222569879477863\n",
      "0.4829471536104012\n",
      "0.9176686805933214\n",
      "0.22841022880752915\n",
      "0.5070257226318916\n",
      "0.2431614666547267\n",
      "0.5366089922579441\n",
      "0.8429008709342639\n",
      "0.9254783865029235\n",
      "0.9104744685964611\n",
      "0.5708658984614859\n",
      "0.040166981854443784\n",
      "0.487712769918082\n"
     ]
    }
   ],
   "source": [
    "l = np.random.random((5,5,5))\n",
    "for i in range(l.shape[0]):\n",
    "    for j in range(l.shape[1]):\n",
    "        for k in range(l.shape[2]):\n",
    "            print(l[i][j][k])"
   ]
  },
  {
   "cell_type": "markdown",
   "metadata": {},
   "source": [
    "# 10.Subtract the mean of each row of a matrix"
   ]
  },
  {
   "cell_type": "code",
   "execution_count": 122,
   "metadata": {},
   "outputs": [
    {
     "name": "stdout",
     "output_type": "stream",
     "text": [
      "\n",
      "\n",
      "\n",
      " [[0.26807427 0.9077762  0.28713489 0.78202798]\n",
      " [0.77569845 0.10357218 0.48999977 0.02325329]\n",
      " [0.39031407 0.4876314  0.17230524 0.3690699 ]\n",
      " [0.74558093 0.96292812 0.46270125 0.92102869]]\n",
      "\n",
      "\n",
      "\n",
      "The list of means of each row: \n",
      " [0.5612533375676168, 0.3481309214793491, 0.35483015294496023, 0.7730597459630333]\n",
      "\n",
      "\n",
      "\n",
      "Ones like a multiplied by the mean of the row: \n",
      " [[0.56125334 0.56125334 0.56125334 0.56125334]\n",
      " [0.34813092 0.34813092 0.34813092 0.34813092]\n",
      " [0.35483015 0.35483015 0.35483015 0.35483015]\n",
      " [0.77305975 0.77305975 0.77305975 0.77305975]]\n",
      "\n",
      "\n",
      "\n",
      " The resulting matrix is: \n",
      " [[-0.29317906  0.34652287 -0.27411844  0.22077464]\n",
      " [ 0.42756753 -0.24455874  0.14186885 -0.32487763]\n",
      " [ 0.03548392  0.13280125 -0.18252491  0.01423974]\n",
      " [-0.02747882  0.18986837 -0.3103585   0.14796894]]\n"
     ]
    }
   ],
   "source": [
    "import scipy\n",
    "from scipy import stats\n",
    "a = np.random.random((np.random.randint(3,5),np.random.randint(3,5)))\n",
    "m = []\n",
    "\n",
    "print(\"\\n\\n\\n\",a)\n",
    "\n",
    "for i in range(a.shape[0]):\n",
    "    b = np.array(a[i])\n",
    "    m.append(np.mean(a[i]))\n",
    "o = np.ones_like(a)\n",
    "for i in range(o.shape[0]):\n",
    "    o[i] = o[i]*m[i]\n",
    "print(\"\\n\\n\\nThe list of means of each row: \\n\",m)\n",
    "print(\"\\n\\n\\nOnes like a multiplied by the mean of the row: \\n\", o)\n",
    "print(\"\\n\\n\\n The resulting matrix is: \\n\",a-o)"
   ]
  },
  {
   "cell_type": "markdown",
   "metadata": {},
   "source": [
    "# 11.Consider a given vector, how to add 1 to each element indexed by a second vector (be careful with repeated indices)? "
   ]
  },
  {
   "cell_type": "code",
   "execution_count": 131,
   "metadata": {},
   "outputs": [],
   "source": [
    "v = [2,4,6,8,10]"
   ]
  },
  {
   "cell_type": "code",
   "execution_count": 133,
   "metadata": {},
   "outputs": [
    {
     "name": "stdout",
     "output_type": "stream",
     "text": [
      "[ 6 23 34 98 26 84 31 49 10 83 65 30 31 89 32 46 88  6 94 25]\n",
      "[ 6 23 35 98 27 84 32 49 11 83 66 30 31 89 32 46 88  6 94 25]\n"
     ]
    }
   ],
   "source": [
    "V = np.random.randint(1,100,20)\n",
    "print(V)\n",
    "for i in v:\n",
    "    V[i] = V[i]+1\n",
    "print(V)"
   ]
  },
  {
   "cell_type": "markdown",
   "metadata": {},
   "source": [
    "# 12.How to get the diagonal of a dot product?"
   ]
  },
  {
   "cell_type": "code",
   "execution_count": 89,
   "metadata": {},
   "outputs": [
    {
     "name": "stdout",
     "output_type": "stream",
     "text": [
      "The diagonal elements of the dot product are:  [0.20549578320446088, 0.14033628423169273]\n"
     ]
    }
   ],
   "source": [
    "q = np.random.random((2,2))\n",
    "r = np.random.random((2,2))\n",
    "s = q.dot(r)\n",
    "l=[]\n",
    "for i in range(s.shape[0]):\n",
    "    for j in range(s.shape[1]):\n",
    "        if i ==j:\n",
    "            l.append(s[i][j])\n",
    "print(\"The diagonal elements of the dot product are: \",l)"
   ]
  },
  {
   "cell_type": "markdown",
   "metadata": {},
   "source": [
    "# 13.How to find the most frequent value in an array?"
   ]
  },
  {
   "cell_type": "code",
   "execution_count": 130,
   "metadata": {},
   "outputs": [
    {
     "name": "stdout",
     "output_type": "stream",
     "text": [
      "[ 2  9 14  8  6  9 14  5  3 17 17  9 12 14 16 12 14  6 18 13  2  7 13  1\n",
      "  4]\n",
      "ModeResult(mode=array([14]), count=array([4]))\n"
     ]
    }
   ],
   "source": [
    "\n",
    "from scipy import stats\n",
    "a = np.random.randint(1,20,25)\n",
    "print(a)\n",
    "m = stats.mode(a)\n",
    "print(m)"
   ]
  },
  {
   "cell_type": "markdown",
   "metadata": {},
   "source": [
    "# 14.How to get the n largest values of an array"
   ]
  },
  {
   "cell_type": "code",
   "execution_count": 141,
   "metadata": {},
   "outputs": [
    {
     "name": "stdout",
     "output_type": "stream",
     "text": [
      "Please enter the number of largest value's you want to see?30\n",
      "[9957 9945 9930 9921 9915 9915 9910 9908 9900 9896 9892 9875 9875 9843\n",
      " 9837 9832 9831 9773 9759 9737 9722 9718 9717 9716 9707 9694 9694 9672\n",
      " 9666 9664]\n"
     ]
    }
   ],
   "source": [
    "t = np.random.randint(1,10000,1000)\n",
    "n = int(input(\"Please enter the number of largest value's you want to see?\"))\n",
    "print ((t[np.argsort(t)[-n:]])[::-1])"
   ]
  },
  {
   "cell_type": "markdown",
   "metadata": {},
   "source": [
    "# 15.How to create a record array from a regular array?"
   ]
  },
  {
   "cell_type": "code",
   "execution_count": 146,
   "metadata": {},
   "outputs": [
    {
     "name": "stdout",
     "output_type": "stream",
     "text": [
      "[(10, 'Orange', 12.2) (20, 'Grape', 15. ) (30, 'Banana', 20. )\n",
      " (40, 'Apple', 40. )]\n"
     ]
    }
   ],
   "source": [
    "a1=np.array([10,20,30,40])\n",
    "a2=np.array(['Orange','Grape','Banana','Apple'])\n",
    "a3=np.array([12.20,15,20,40])\n",
    "result= np.core.records.fromarrays([a1, a2, a3])\n",
    "print(result)\n"
   ]
  },
  {
   "cell_type": "code",
   "execution_count": null,
   "metadata": {},
   "outputs": [],
   "source": []
  }
 ],
 "metadata": {
  "kernelspec": {
   "display_name": "Python 3",
   "language": "python",
   "name": "python3"
  },
  "language_info": {
   "codemirror_mode": {
    "name": "ipython",
    "version": 3
   },
   "file_extension": ".py",
   "mimetype": "text/x-python",
   "name": "python",
   "nbconvert_exporter": "python",
   "pygments_lexer": "ipython3",
   "version": "3.7.6"
  }
 },
 "nbformat": 4,
 "nbformat_minor": 2
}
