{
 "cells": [
  {
   "cell_type": "markdown",
   "metadata": {},
   "source": [
    "# Question 1 \n"
   ]
  },
  {
   "cell_type": "markdown",
   "metadata": {},
   "source": [
    "First we declare the complex numbers ourself and test the substraction "
   ]
  },
  {
   "cell_type": "code",
   "execution_count": 1,
   "metadata": {},
   "outputs": [
    {
     "name": "stdout",
     "output_type": "stream",
     "text": [
      "(1+1j)\n"
     ]
    }
   ],
   "source": [
    "a = 3+5j \n",
    "b = 4+6j\n",
    "print(b-a)"
   ]
  },
  {
   "cell_type": "markdown",
   "metadata": {},
   "source": [
    "Now we request for an input from the person reading or evaluating the code to enter his own value "
   ]
  },
  {
   "cell_type": "code",
   "execution_count": 2,
   "metadata": {},
   "outputs": [
    {
     "name": "stdout",
     "output_type": "stream",
     "text": [
      "Enter a complex number\n",
      "3+5j\n",
      "Enter another complex number\n",
      "4+6j\n",
      "The difference between the 2 complex numbers entered is:\n",
      "(1+1j)\n"
     ]
    }
   ],
   "source": [
    "print(\"Enter a complex number\")\n",
    "a = complex(input())\n",
    "print(\"Enter another complex number\")\n",
    "b = complex(input())\n",
    "c= b-a\n",
    "print(\"The difference between the 2 complex numbers entered is:\")\n",
    "print(c)"
   ]
  },
  {
   "cell_type": "markdown",
   "metadata": {},
   "source": [
    "# Question 2\n"
   ]
  },
  {
   "cell_type": "markdown",
   "metadata": {},
   "source": [
    "Code to get the 4th root of a pre declared number"
   ]
  },
  {
   "cell_type": "code",
   "execution_count": 3,
   "metadata": {},
   "outputs": [
    {
     "data": {
      "text/plain": [
       "2.0"
      ]
     },
     "execution_count": 3,
     "metadata": {},
     "output_type": "execute_result"
    }
   ],
   "source": [
    "import math\n",
    "a = 16\n",
    "math.sqrt(math.sqrt(a))"
   ]
  },
  {
   "cell_type": "markdown",
   "metadata": {},
   "source": [
    "Code to find the 4th root of a number given by the user"
   ]
  },
  {
   "cell_type": "code",
   "execution_count": 4,
   "metadata": {},
   "outputs": [
    {
     "name": "stdout",
     "output_type": "stream",
     "text": [
      "Please enter an integer\n",
      "16\n",
      "2.0\n"
     ]
    }
   ],
   "source": [
    "print(\"Please enter an integer\")\n",
    "a = float(input())\n",
    "print(math.sqrt(math.sqrt(a)))"
   ]
  },
  {
   "cell_type": "markdown",
   "metadata": {},
   "source": [
    "# Question 3\n"
   ]
  },
  {
   "cell_type": "markdown",
   "metadata": {},
   "source": [
    "With self declared values"
   ]
  },
  {
   "cell_type": "code",
   "execution_count": 5,
   "metadata": {},
   "outputs": [
    {
     "name": "stdout",
     "output_type": "stream",
     "text": [
      "The new values after the numbers were swapped are: \n",
      " a =  20  b =  10\n"
     ]
    }
   ],
   "source": [
    "a = 10 \n",
    "b = 20 \n",
    "c=a\n",
    "a=b\n",
    "b=c \n",
    "print(\"The new values after the numbers were swapped are: \\n\",\"a = \",a,\" b = \",b)"
   ]
  },
  {
   "cell_type": "markdown",
   "metadata": {},
   "source": [
    "With user input values"
   ]
  },
  {
   "cell_type": "code",
   "execution_count": 6,
   "metadata": {},
   "outputs": [
    {
     "name": "stdout",
     "output_type": "stream",
     "text": [
      "Please enter an integer\n",
      "10\n",
      "Please enter another integer\n",
      "20\n",
      "The new values after the numbers were swapped are: \n",
      " a =  20.0  b =  10.0\n"
     ]
    }
   ],
   "source": [
    "print(\"Please enter an integer\")\n",
    "a = float(input())\n",
    "print(\"Please enter another integer\")\n",
    "b = float(input())\n",
    "\n",
    "c=a\n",
    "a=b\n",
    "b=c\n",
    "\n",
    "print(\"The new values after the numbers were swapped are: \\n\",\"a = \",a,\" b = \",b )"
   ]
  },
  {
   "cell_type": "markdown",
   "metadata": {},
   "source": [
    "# Question 4"
   ]
  },
  {
   "cell_type": "markdown",
   "metadata": {},
   "source": [
    "with pre-declared values"
   ]
  },
  {
   "cell_type": "code",
   "execution_count": 7,
   "metadata": {},
   "outputs": [
    {
     "name": "stdout",
     "output_type": "stream",
     "text": [
      "The new values after the numbers were swapped are: \n",
      " a =  40  b =  20\n"
     ]
    }
   ],
   "source": [
    "a = 20 \n",
    "b = 40\n",
    "\n",
    "a= a-b\n",
    "b=b+a\n",
    "a=b-a\n",
    "\n",
    "print(\"The new values after the numbers were swapped are: \\n\",\"a = \",a,\" b = \",b)"
   ]
  },
  {
   "cell_type": "markdown",
   "metadata": {},
   "source": [
    "with user-specified values"
   ]
  },
  {
   "cell_type": "code",
   "execution_count": 8,
   "metadata": {},
   "outputs": [
    {
     "name": "stdout",
     "output_type": "stream",
     "text": [
      "Please enter an integer\n",
      "20\n",
      "Please enter another integer\n",
      "40\n",
      "The new values after the numbers were swapped are: \n",
      " a =  40.0  b =  20.0\n"
     ]
    }
   ],
   "source": [
    "print(\"Please enter an integer\")\n",
    "a = float(input())\n",
    "print(\"Please enter another integer\")\n",
    "b = float(input())\n",
    "\n",
    "a= a-b\n",
    "b=b+a\n",
    "a=b-a\n",
    "\n",
    "print(\"The new values after the numbers were swapped are: \\n\",\"a = \",a,\" b = \",b )"
   ]
  },
  {
   "cell_type": "markdown",
   "metadata": {},
   "source": [
    "# Question 5\n"
   ]
  },
  {
   "cell_type": "code",
   "execution_count": 9,
   "metadata": {},
   "outputs": [
    {
     "name": "stdout",
     "output_type": "stream",
     "text": [
      "The temperature in Celsius is:  37.77777777777778 \n",
      "The temperature in Kelvin is:  310.77777777777777\n"
     ]
    }
   ],
   "source": [
    "F = 100\n",
    "\n",
    "C = (5*(F-32))/9\n",
    "\n",
    "K = (5*(F-32))/9 + 273\n",
    "\n",
    "print(\"The temperature in Celsius is: \",C, \"\\nThe temperature in Kelvin is: \",K)\n"
   ]
  },
  {
   "cell_type": "code",
   "execution_count": 10,
   "metadata": {},
   "outputs": [
    {
     "name": "stdout",
     "output_type": "stream",
     "text": [
      "Please enter the Temperature in Fahrenheit: \n",
      "100\n",
      "The temperature in Celsius is:  37.77777777777778 \n",
      "The temperature in Kelvin is:  310.77777777777777\n"
     ]
    }
   ],
   "source": [
    "print(\"Please enter the Temperature in Fahrenheit: \")\n",
    "\n",
    "F = float(input())\n",
    "C = (5*(F-32))/9\n",
    "\n",
    "K = (5*(F-32))/9 + 273\n",
    "\n",
    "print(\"The temperature in Celsius is: \",C, \"\\nThe temperature in Kelvin is: \",K)\n"
   ]
  },
  {
   "cell_type": "markdown",
   "metadata": {},
   "source": [
    "# Question 6\n"
   ]
  },
  {
   "cell_type": "code",
   "execution_count": 11,
   "metadata": {},
   "outputs": [],
   "source": [
    "a = \"yash\"\n",
    "b = 10\n",
    "c = 10.5 \n",
    "d = 1+2j\n",
    "e = [10,20,30]\n",
    "f = (1,0,2)\n",
    "g = True\n",
    "h = {a:1,b:2}\n",
    "i = range(1,10)\n",
    "j = {1,2,3}\n",
    "k = frozenset({1,2,3})\n",
    "l = b\"hi\""
   ]
  },
  {
   "cell_type": "code",
   "execution_count": 12,
   "metadata": {},
   "outputs": [
    {
     "name": "stdout",
     "output_type": "stream",
     "text": [
      "<class 'str'>\n",
      "<class 'int'>\n",
      "<class 'float'>\n",
      "<class 'complex'>\n",
      "<class 'list'>\n",
      "<class 'tuple'>\n",
      "<class 'bool'>\n",
      "<class 'dict'>\n",
      "<class 'range'>\n",
      "<class 'set'>\n",
      "<class 'frozenset'>\n",
      "<class 'bytes'>\n"
     ]
    }
   ],
   "source": [
    "print(type(a))\n",
    "print(type(b))\n",
    "print(type(c))\n",
    "print(type(d))\n",
    "print(type(e))\n",
    "print(type(f))\n",
    "print(type(g))\n",
    "print(type(h))\n",
    "print(type(i))\n",
    "print(type(j))\n",
    "print(type(k))\n",
    "print(type(l))"
   ]
  },
  {
   "cell_type": "markdown",
   "metadata": {},
   "source": [
    "# Question 7"
   ]
  },
  {
   "cell_type": "markdown",
   "metadata": {},
   "source": [
    "1. First sign up and login with your gmail id\n",
    "2. Now go to your dashboard and create a \"NEW\" repository named LetsUpgrade AI-ML\n",
    "3. We can upload our files here using drop files from system method\n",
    "4. We later go to the goolge forms and fill in our details and finally copy/paste our repository/code link there"
   ]
  },
  {
   "cell_type": "code",
   "execution_count": null,
   "metadata": {},
   "outputs": [],
   "source": []
  }
 ],
 "metadata": {
  "kernelspec": {
   "display_name": "Python 3",
   "language": "python",
   "name": "python3"
  },
  "language_info": {
   "codemirror_mode": {
    "name": "ipython",
    "version": 3
   },
   "file_extension": ".py",
   "mimetype": "text/x-python",
   "name": "python",
   "nbconvert_exporter": "python",
   "pygments_lexer": "ipython3",
   "version": "3.7.6"
  }
 },
 "nbformat": 4,
 "nbformat_minor": 4
}
