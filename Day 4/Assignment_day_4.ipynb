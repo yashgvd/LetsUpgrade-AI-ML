{
 "cells": [
  {
   "cell_type": "markdown",
   "metadata": {},
   "source": [
    "# Question 1\n"
   ]
  },
  {
   "cell_type": "code",
   "execution_count": 13,
   "metadata": {},
   "outputs": [
    {
     "name": "stdout",
     "output_type": "stream",
     "text": [
      "(6+8j)\n",
      "(-2-2j)\n",
      "(-7+22j)\n",
      "(0.5609756097560976+0.0487804878048781j)\n",
      "\n",
      "The floor division and modulo operations cannot be implemented on Complex Numbers\n"
     ]
    }
   ],
   "source": [
    "a = 2 + 3j\n",
    "b = 4 + 5j\n",
    "\n",
    "print(a+b)\n",
    "print(a-b)\n",
    "print(a*b)\n",
    "print(a/b)\n",
    "\n",
    "print(\"\\nThe floor division and modulo operations cannot be implemented on Complex Numbers\")"
   ]
  },
  {
   "cell_type": "code",
   "execution_count": 14,
   "metadata": {},
   "outputs": [
    {
     "name": "stdout",
     "output_type": "stream",
     "text": [
      "Please enter a complex number\n",
      "2+3j\n",
      "Please enter another complex number\n",
      "4+5j\n",
      "(6+8j)\n",
      "(-2-2j)\n",
      "(-7+22j)\n",
      "(0.5609756097560976+0.0487804878048781j)\n",
      "\n",
      "The floor division and modulo operations cannot be implemented on Complex Numbers\n"
     ]
    }
   ],
   "source": [
    "\n",
    "print(\"Please enter a complex number\")\n",
    "a = complex(input())\n",
    "print(\"Please enter another complex number\")\n",
    "b = complex(input())\n",
    "\n",
    "print(a+b)\n",
    "print(a-b)\n",
    "print(a*b)\n",
    "print(a/b)\n",
    "\n",
    "\n",
    "print(\"\\nThe floor division and modulo operations cannot be implemented on Complex Numbers\")"
   ]
  },
  {
   "cell_type": "markdown",
   "metadata": {},
   "source": [
    "# Question 2 "
   ]
  },
  {
   "cell_type": "markdown",
   "metadata": {},
   "source": [
    "- generates a series of numbers according to the given inputs \n",
    "- range() is a function that takes 3 inputs start, stop and step/increment\n",
    "- start and step are optional and they are set to 0 and 1, by default, respectively\n",
    "- the range() function is mostly used for implementing iterations in the for loop\n"
   ]
  },
  {
   "cell_type": "code",
   "execution_count": 16,
   "metadata": {},
   "outputs": [
    {
     "name": "stdout",
     "output_type": "stream",
     "text": [
      "2\n",
      "4\n",
      "6\n",
      "8\n"
     ]
    }
   ],
   "source": [
    "for i in range(2,9,2):\n",
    "    print(i)\n",
    "    "
   ]
  },
  {
   "cell_type": "code",
   "execution_count": 23,
   "metadata": {},
   "outputs": [
    {
     "name": "stdout",
     "output_type": "stream",
     "text": [
      "Please enter an integer value for 'n' to find the sum of first n numbers\n",
      "10\n",
      "sum of the first n natural numbers is:  45\n"
     ]
    }
   ],
   "source": [
    "sum = 0\n",
    "print(\"Please enter an integer value for 'n' to find the sum of first n numbers\")\n",
    "n = int(input())\n",
    "for i in range(1,n):\n",
    "    sum = sum + i\n",
    "print(\"sum of the first n natural numbers is: \",sum)"
   ]
  },
  {
   "cell_type": "markdown",
   "metadata": {},
   "source": [
    "# Question 3"
   ]
  },
  {
   "cell_type": "code",
   "execution_count": 25,
   "metadata": {},
   "outputs": [
    {
     "name": "stdout",
     "output_type": "stream",
     "text": [
      "enter an integer\n",
      "20\n",
      "enter another integer\n",
      "5\n",
      "4.0\n"
     ]
    }
   ],
   "source": [
    "print(\"enter an integer\")\n",
    "a = int(input())\n",
    "print(\"enter another integer\")\n",
    "b = int(input())\n",
    "\n",
    "if (a-b>25):\n",
    "    print(a*b)\n",
    "else:\n",
    "    print(a/b)\n",
    "        "
   ]
  },
  {
   "cell_type": "markdown",
   "metadata": {},
   "source": [
    "# Question 4"
   ]
  },
  {
   "cell_type": "code",
   "execution_count": 28,
   "metadata": {},
   "outputs": [
    {
     "name": "stdout",
     "output_type": "stream",
     "text": [
      "14\n",
      "322\n",
      "1762\n",
      "4094\n",
      "7054\n",
      "9602\n"
     ]
    }
   ],
   "source": [
    "l = [4,7,11,18,23,42,64,77,84,93,98]\n",
    "for i in range(len(l)):\n",
    "    if(l[i]%2==0):\n",
    "        print(l[i]**2 - 2)"
   ]
  },
  {
   "cell_type": "markdown",
   "metadata": {},
   "source": [
    "# Question 5"
   ]
  },
  {
   "cell_type": "code",
   "execution_count": 29,
   "metadata": {},
   "outputs": [
    {
     "name": "stdout",
     "output_type": "stream",
     "text": [
      "18\n",
      "23\n",
      "42\n",
      "64\n",
      "77\n",
      "84\n",
      "93\n",
      "98\n"
     ]
    }
   ],
   "source": [
    "l = [4,7,11,18,23,42,64,77,84,93,98]\n",
    "for i in range(len(l)):\n",
    "    if(l[i]/2>7):\n",
    "        print(l[i])"
   ]
  },
  {
   "cell_type": "code",
   "execution_count": null,
   "metadata": {},
   "outputs": [],
   "source": []
  }
 ],
 "metadata": {
  "kernelspec": {
   "display_name": "Python 3",
   "language": "python",
   "name": "python3"
  },
  "language_info": {
   "codemirror_mode": {
    "name": "ipython",
    "version": 3
   },
   "file_extension": ".py",
   "mimetype": "text/x-python",
   "name": "python",
   "nbconvert_exporter": "python",
   "pygments_lexer": "ipython3",
   "version": "3.7.6"
  }
 },
 "nbformat": 4,
 "nbformat_minor": 4
}
